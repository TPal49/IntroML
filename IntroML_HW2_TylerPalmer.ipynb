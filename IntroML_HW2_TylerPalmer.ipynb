{
  "nbformat": 4,
  "nbformat_minor": 0,
  "metadata": {
    "colab": {
      "provenance": []
    },
    "kernelspec": {
      "name": "python3",
      "display_name": "Python 3"
    },
    "language_info": {
      "name": "python"
    }
  },
  "cells": [
    {
      "cell_type": "code",
      "execution_count": 1,
      "metadata": {
        "id": "nmpQ1b8z6jlt",
        "colab": {
          "base_uri": "https://localhost:8080/",
          "height": 73
        },
        "outputId": "cb96b966-ef95-469a-87f2-c3ffdccc3825"
      },
      "outputs": [
        {
          "output_type": "display_data",
          "data": {
            "text/plain": [
              "<IPython.core.display.HTML object>"
            ],
            "text/html": [
              "\n",
              "     <input type=\"file\" id=\"files-0bf77ce1-61cb-4dc1-b5f2-f4ddd9fdddb8\" name=\"files[]\" multiple disabled\n",
              "        style=\"border:none\" />\n",
              "     <output id=\"result-0bf77ce1-61cb-4dc1-b5f2-f4ddd9fdddb8\">\n",
              "      Upload widget is only available when the cell has been executed in the\n",
              "      current browser session. Please rerun this cell to enable.\n",
              "      </output>\n",
              "      <script>// Copyright 2017 Google LLC\n",
              "//\n",
              "// Licensed under the Apache License, Version 2.0 (the \"License\");\n",
              "// you may not use this file except in compliance with the License.\n",
              "// You may obtain a copy of the License at\n",
              "//\n",
              "//      http://www.apache.org/licenses/LICENSE-2.0\n",
              "//\n",
              "// Unless required by applicable law or agreed to in writing, software\n",
              "// distributed under the License is distributed on an \"AS IS\" BASIS,\n",
              "// WITHOUT WARRANTIES OR CONDITIONS OF ANY KIND, either express or implied.\n",
              "// See the License for the specific language governing permissions and\n",
              "// limitations under the License.\n",
              "\n",
              "/**\n",
              " * @fileoverview Helpers for google.colab Python module.\n",
              " */\n",
              "(function(scope) {\n",
              "function span(text, styleAttributes = {}) {\n",
              "  const element = document.createElement('span');\n",
              "  element.textContent = text;\n",
              "  for (const key of Object.keys(styleAttributes)) {\n",
              "    element.style[key] = styleAttributes[key];\n",
              "  }\n",
              "  return element;\n",
              "}\n",
              "\n",
              "// Max number of bytes which will be uploaded at a time.\n",
              "const MAX_PAYLOAD_SIZE = 100 * 1024;\n",
              "\n",
              "function _uploadFiles(inputId, outputId) {\n",
              "  const steps = uploadFilesStep(inputId, outputId);\n",
              "  const outputElement = document.getElementById(outputId);\n",
              "  // Cache steps on the outputElement to make it available for the next call\n",
              "  // to uploadFilesContinue from Python.\n",
              "  outputElement.steps = steps;\n",
              "\n",
              "  return _uploadFilesContinue(outputId);\n",
              "}\n",
              "\n",
              "// This is roughly an async generator (not supported in the browser yet),\n",
              "// where there are multiple asynchronous steps and the Python side is going\n",
              "// to poll for completion of each step.\n",
              "// This uses a Promise to block the python side on completion of each step,\n",
              "// then passes the result of the previous step as the input to the next step.\n",
              "function _uploadFilesContinue(outputId) {\n",
              "  const outputElement = document.getElementById(outputId);\n",
              "  const steps = outputElement.steps;\n",
              "\n",
              "  const next = steps.next(outputElement.lastPromiseValue);\n",
              "  return Promise.resolve(next.value.promise).then((value) => {\n",
              "    // Cache the last promise value to make it available to the next\n",
              "    // step of the generator.\n",
              "    outputElement.lastPromiseValue = value;\n",
              "    return next.value.response;\n",
              "  });\n",
              "}\n",
              "\n",
              "/**\n",
              " * Generator function which is called between each async step of the upload\n",
              " * process.\n",
              " * @param {string} inputId Element ID of the input file picker element.\n",
              " * @param {string} outputId Element ID of the output display.\n",
              " * @return {!Iterable<!Object>} Iterable of next steps.\n",
              " */\n",
              "function* uploadFilesStep(inputId, outputId) {\n",
              "  const inputElement = document.getElementById(inputId);\n",
              "  inputElement.disabled = false;\n",
              "\n",
              "  const outputElement = document.getElementById(outputId);\n",
              "  outputElement.innerHTML = '';\n",
              "\n",
              "  const pickedPromise = new Promise((resolve) => {\n",
              "    inputElement.addEventListener('change', (e) => {\n",
              "      resolve(e.target.files);\n",
              "    });\n",
              "  });\n",
              "\n",
              "  const cancel = document.createElement('button');\n",
              "  inputElement.parentElement.appendChild(cancel);\n",
              "  cancel.textContent = 'Cancel upload';\n",
              "  const cancelPromise = new Promise((resolve) => {\n",
              "    cancel.onclick = () => {\n",
              "      resolve(null);\n",
              "    };\n",
              "  });\n",
              "\n",
              "  // Wait for the user to pick the files.\n",
              "  const files = yield {\n",
              "    promise: Promise.race([pickedPromise, cancelPromise]),\n",
              "    response: {\n",
              "      action: 'starting',\n",
              "    }\n",
              "  };\n",
              "\n",
              "  cancel.remove();\n",
              "\n",
              "  // Disable the input element since further picks are not allowed.\n",
              "  inputElement.disabled = true;\n",
              "\n",
              "  if (!files) {\n",
              "    return {\n",
              "      response: {\n",
              "        action: 'complete',\n",
              "      }\n",
              "    };\n",
              "  }\n",
              "\n",
              "  for (const file of files) {\n",
              "    const li = document.createElement('li');\n",
              "    li.append(span(file.name, {fontWeight: 'bold'}));\n",
              "    li.append(span(\n",
              "        `(${file.type || 'n/a'}) - ${file.size} bytes, ` +\n",
              "        `last modified: ${\n",
              "            file.lastModifiedDate ? file.lastModifiedDate.toLocaleDateString() :\n",
              "                                    'n/a'} - `));\n",
              "    const percent = span('0% done');\n",
              "    li.appendChild(percent);\n",
              "\n",
              "    outputElement.appendChild(li);\n",
              "\n",
              "    const fileDataPromise = new Promise((resolve) => {\n",
              "      const reader = new FileReader();\n",
              "      reader.onload = (e) => {\n",
              "        resolve(e.target.result);\n",
              "      };\n",
              "      reader.readAsArrayBuffer(file);\n",
              "    });\n",
              "    // Wait for the data to be ready.\n",
              "    let fileData = yield {\n",
              "      promise: fileDataPromise,\n",
              "      response: {\n",
              "        action: 'continue',\n",
              "      }\n",
              "    };\n",
              "\n",
              "    // Use a chunked sending to avoid message size limits. See b/62115660.\n",
              "    let position = 0;\n",
              "    do {\n",
              "      const length = Math.min(fileData.byteLength - position, MAX_PAYLOAD_SIZE);\n",
              "      const chunk = new Uint8Array(fileData, position, length);\n",
              "      position += length;\n",
              "\n",
              "      const base64 = btoa(String.fromCharCode.apply(null, chunk));\n",
              "      yield {\n",
              "        response: {\n",
              "          action: 'append',\n",
              "          file: file.name,\n",
              "          data: base64,\n",
              "        },\n",
              "      };\n",
              "\n",
              "      let percentDone = fileData.byteLength === 0 ?\n",
              "          100 :\n",
              "          Math.round((position / fileData.byteLength) * 100);\n",
              "      percent.textContent = `${percentDone}% done`;\n",
              "\n",
              "    } while (position < fileData.byteLength);\n",
              "  }\n",
              "\n",
              "  // All done.\n",
              "  yield {\n",
              "    response: {\n",
              "      action: 'complete',\n",
              "    }\n",
              "  };\n",
              "}\n",
              "\n",
              "scope.google = scope.google || {};\n",
              "scope.google.colab = scope.google.colab || {};\n",
              "scope.google.colab._files = {\n",
              "  _uploadFiles,\n",
              "  _uploadFilesContinue,\n",
              "};\n",
              "})(self);\n",
              "</script> "
            ]
          },
          "metadata": {}
        },
        {
          "output_type": "stream",
          "name": "stdout",
          "text": [
            "Saving Housing.csv to Housing.csv\n"
          ]
        }
      ],
      "source": [
        "# Tyler Palmer\n",
        "# Homework 1\n",
        "# ID: 801058786\n",
        "# https://github.com/TPal49/IntroML\n",
        "\n",
        "import pandas as pd\n",
        "import numpy as np\n",
        "import matplotlib.pyplot as plt\n",
        "\n",
        "from google.colab import files\n",
        "uploaded = files.upload()\n",
        "\n",
        "data = pd.read_csv(\"Housing.csv\")\n",
        "data = data.to_numpy()"
      ]
    },
    {
      "cell_type": "code",
      "source": [
        "def oneHotEncoder(x):\n",
        "  #one hot encoding process\n",
        "  for i in [4,5,6,7,8,10]:\n",
        "    onehot = pd.get_dummies(x[:,i])\n",
        "    #print(onehot)\n",
        "    x = np.hstack([x,onehot])\n",
        "\n",
        "  count  = 0\n",
        "  for i in [4,5,6,7,8,10]:\n",
        "    i = i - count\n",
        "    x = np.delete(x,i,1)\n",
        "    count += 1\n",
        "  return x\n",
        "\n",
        "def Normalizer(x):\n",
        "  x_norm = (x - x.min())/(x.max() - x.min())\n",
        "  return x_norm\n",
        "\n",
        "def Standardizer(x):\n",
        "  for j in range(x.shape[1]):\n",
        "    for i in range(len(x)):\n",
        "      x[i,j] = (x[i,j] - x[:,j].mean()) / np.std(x[:,j])\n",
        "  return x"
      ],
      "metadata": {
        "id": "8Gp2oua-pf3A"
      },
      "execution_count": 3,
      "outputs": []
    },
    {
      "cell_type": "code",
      "source": [
        "def linRegModel(x,theta):\n",
        "  x0 = np.ones([len(x),1])\n",
        "  X = np.hstack((x,x0))\n",
        "  #print(X)\n",
        "  yhat = np.dot(X,theta)\n",
        "  return yhat, X\n",
        "\n",
        "def lossFunct(y,yhat):\n",
        "  MSE = ((yhat-y)**2).mean()\n",
        "  return(MSE)\n",
        "\n",
        "def lossFunct2(y,yhat,lam,theta):\n",
        "  MSE = ((yhat-y)**2).mean() + lam*((theta[:-1])**2).sum()\n",
        "  return MSE\n",
        "\n",
        "def gradFunct(y,x,yhat,theta,lr = 0.001):\n",
        "  matrix = x.transpose() @ (yhat - y) * 1/len(y) * 2 * lr\n",
        "  theta = theta - matrix\n",
        "  #print(matrix)\n",
        "  return(theta)\n",
        "\n",
        "\n",
        "def gradFunct2(y,x,yhat,theta,lam,lr = 0.01):\n",
        "  matrix = (x.transpose() @ (yhat - y) * 1/len(y) * 2 + lam*theta )* lr\n",
        "  theta = theta - matrix\n",
        "  #print(matrix)\n",
        "  return theta"
      ],
      "metadata": {
        "id": "98LbJTQo9WrC"
      },
      "execution_count": 95,
      "outputs": []
    },
    {
      "cell_type": "markdown",
      "source": [
        "Problem 1\n",
        "\n",
        "1.a) Develop a gradient decent training and evaluation code that predicts housing price based on the following input variables:\n",
        "\n",
        "area, bedrooms, bathrooms, stories, parking\n",
        "\n",
        "Identify the best parameters for your linear regression model, based on the above input variables. \n",
        "\n",
        "Plot the training and validation losses (in a single graph, but two different lines). For the learning rate, explore different values between 0.1 and 0.01 (your choice). Initialize your parameters (thetas to zero). For the training iteration, choose what you believe fits the best. \n",
        "\n"
      ],
      "metadata": {
        "id": "fx-_6kA3rXHo"
      }
    },
    {
      "cell_type": "code",
      "source": [
        "train_loss = []\n",
        "val_loss = []\n",
        "y_1a_train = data[0:int((len(data)*0.8)),0]\n",
        "y_1a_val = data[int((len(data)*0.8))+1:len(data),0]\n",
        "theta_1a = np.zeros(6)\n",
        "\n",
        "x_1a_train = data[0:int((len(data)*0.8)),(1,2,3,4,10)]\n",
        "x_1a_val = data[int((len(data)*0.8))+1:len(data),(1,2,3,4,10)]\n",
        "\n",
        "x0 = np.ones([len(x_1a_train),1])\n",
        "X = np.hstack([x0,x_1a_train])\n",
        "\n",
        "xv0 = np.ones([len(x_1a_val),1])\n",
        "Xv = np.hstack([xv0,x_1a_val])\n",
        "\n",
        "for i in range(6):\n",
        "  theta_1a = gradFunct(y_1a_train,X,X.dot(theta_1a),theta_1a)\n",
        "  train_loss.append(lossFunct(y_1a_train,X.dot(theta_1a)))\n",
        "  val_loss.append(lossFunct(y_1a_val,Xv.dot(theta_1a)))\n",
        "\n",
        "\n",
        "plt.plot(train_loss, color = \"blue\")\n",
        "plt.plot(val_loss, color = \"red\")"
      ],
      "metadata": {
        "colab": {
          "base_uri": "https://localhost:8080/",
          "height": 293
        },
        "id": "mfnbui7JrU_U",
        "outputId": "644aee27-980d-4ab8-8317-201337ae27b7"
      },
      "execution_count": 77,
      "outputs": [
        {
          "output_type": "execute_result",
          "data": {
            "text/plain": [
              "[<matplotlib.lines.Line2D at 0x7f62949aa970>]"
            ]
          },
          "metadata": {},
          "execution_count": 77
        },
        {
          "output_type": "display_data",
          "data": {
            "text/plain": [
              "<Figure size 432x288 with 1 Axes>"
            ],
            "image/png": "[encoded data removed]"
          },
          "metadata": {
            "needs_background": "light"
          }
        }
      ]
    },
    {
      "cell_type": "markdown",
      "source": [
        "1.b) Develop a gradient decent training and evaluation code that predicts housing price based on the following input variables:\n",
        "\n",
        "Area, bedrooms, bathrooms, stories, mainroad, guestroom, basement, hotwaterheating, airconditioning, parking, prefarea\n",
        "\n",
        "Identify the best parameters for your linear regression model, based on the above input variables. \n",
        "\n",
        "Plot the training and validation losses (in a single graph, but two different lines) over your training iteration. Compare your linear regression model against problem 1 a. For the learning rate, explore different values between 0.1 and 0.01 (your choice). Initialize your parameters (thetas to zero). For the training iteration, choose what you believe fits the best. "
      ],
      "metadata": {
        "id": "NLJR3mqIg45A"
      }
    },
    {
      "cell_type": "code",
      "source": [
        "train_loss = []\n",
        "val_loss = []\n",
        "y_1b_train = data[0:int((len(data)*0.8)),0]\n",
        "y_1b_val = data[int((len(data)*0.8))+1:len(data),0]\n",
        "theta_1b = np.zeros(18)\n",
        "\n",
        "x_1b_train = data[0:int((len(data)*0.8)),(1,2,3,4,5,6,7,8,9,10,11)]\n",
        "x_1b_val = data[int((len(data)*0.8))+1:len(data),(1,2,3,4,5,6,7,8,9,10,11)]\n",
        "\n",
        "x_1b_train = oneHotEncoder(x_1b_train)\n",
        "x_1b_val = oneHotEncoder(x_1b_val)\n",
        "\n",
        "x0 = np.ones([len(x_1b_train),1])\n",
        "X = np.hstack([x0,x_1b_train])\n",
        "\n",
        "xv0 = np.ones([len(x_1b_val),1])\n",
        "Xv = np.hstack([xv0,x_1b_val])\n",
        "\n",
        "for i in range(6):\n",
        "  theta_1b = gradFunct(y_1b_train,X,X.dot(theta_1b),theta_1b)\n",
        "  train_loss.append(lossFunct(y_1b_train,X.dot(theta_1b)))\n",
        "  val_loss.append(lossFunct(y_1b_val,Xv.dot(theta_1b)))\n",
        "\n",
        "plt.plot(train_loss, color = \"blue\")\n",
        "plt.plot(val_loss, color = \"red\")"
      ],
      "metadata": {
        "colab": {
          "base_uri": "https://localhost:8080/",
          "height": 293
        },
        "id": "qKt7Y8a8rUzH",
        "outputId": "55c4ba40-33ac-4717-c4a5-7d9b3905791f"
      },
      "execution_count": 49,
      "outputs": [
        {
          "output_type": "execute_result",
          "data": {
            "text/plain": [
              "[<matplotlib.lines.Line2D at 0x7f62950b1310>]"
            ]
          },
          "metadata": {},
          "execution_count": 49
        },
        {
          "output_type": "display_data",
          "data": {
            "text/plain": [
              "<Figure size 432x288 with 1 Axes>"
            ],
            "image/png": "[encoded data removed]"
          },
          "metadata": {
            "needs_background": "light"
          }
        }
      ]
    },
    {
      "cell_type": "markdown",
      "source": [
        "Problem 2"
      ],
      "metadata": {
        "id": "bST69h_1g0oA"
      }
    },
    {
      "cell_type": "markdown",
      "source": [
        "2.a) Repeat problem 1 a, this time with input normalization and input standardization as part of your pre-processing logic. You need to perform two separate trainings for standardization and normalization. \n",
        "\n",
        "Plot the training and validation losses for both training and validation set based on input standardization and input normalization. Compare your training accuracy between both scaling approaches as well as the baseline training in problem 1 a. Which input scaling achieves the best training? Explain your results."
      ],
      "metadata": {
        "id": "jhV3mfaLg_lN"
      }
    },
    {
      "cell_type": "code",
      "source": [
        "train_loss = []\n",
        "val_loss = []\n",
        "y_2a_train = data[0:int((len(data)*0.8)),0]\n",
        "y_2a_val = data[int((len(data)*0.8))+1:len(data),0]\n",
        "theta_2a = np.zeros(6)\n",
        "\n",
        "x_2a_train = data[0:int((len(data)*0.8)),(1,2,3,4,10)]\n",
        "x_2a_val = data[int((len(data)*0.8))+1:len(data),(1,2,3,4,10)]\n",
        "\n",
        "x_2a_tnorm = Normalizer(x_2a_train)\n",
        "x_2a_vnorm = Normalizer(x_2a_val)\n",
        "\n",
        "y_2a_tnorm = Normalizer(y_2a_train)\n",
        "y_2a_vnorm = Normalizer(y_2a_val)\n",
        "\n",
        "x0 = np.ones([len(x_2a_tnorm),1])\n",
        "X = np.hstack([x0,x_2a_tnorm])\n",
        "\n",
        "xv0 = np.ones([len(x_2a_vnorm),1])\n",
        "Xv = np.hstack([xv0,x_2a_vnorm])\n",
        "\n",
        "for i in range(600):\n",
        "  theta_2a = gradFunct(y_2a_tnorm,X,X.dot(theta_2a),theta_2a)\n",
        "  train_loss.append(lossFunct(y_2a_tnorm,X.dot(theta_2a)))\n",
        "  val_loss.append(lossFunct(y_2a_vnorm,Xv.dot(theta_2a)))\n",
        "\n",
        "plt.plot(train_loss, color = \"blue\")\n",
        "plt.plot(val_loss, color = \"red\")"
      ],
      "metadata": {
        "colab": {
          "base_uri": "https://localhost:8080/",
          "height": 282
        },
        "id": "oYAPs0gugqe8",
        "outputId": "5f7a5adb-5635-43ef-8cd5-163a57386808"
      },
      "execution_count": 81,
      "outputs": [
        {
          "output_type": "execute_result",
          "data": {
            "text/plain": [
              "[<matplotlib.lines.Line2D at 0x7f6294e70220>]"
            ]
          },
          "metadata": {},
          "execution_count": 81
        },
        {
          "output_type": "display_data",
          "data": {
            "text/plain": [
              "<Figure size 432x288 with 1 Axes>"
            ],
            "image/png": "[encoded data removed]"
          },
          "metadata": {
            "needs_background": "light"
          }
        }
      ]
    },
    {
      "cell_type": "code",
      "source": [
        "train_loss = []\n",
        "val_loss = []\n",
        "y_2a_train = data[0:int((len(data)*0.8)),0]\n",
        "y_2a_val = data[int((len(data)*0.8))+1:len(data),0]\n",
        "\n",
        "\n",
        "theta_2a = np.zeros(6)\n",
        "\n",
        "x_2a_train = data[0:int((len(data)*0.8)),(1,2,3,4,10)]\n",
        "x_2a_val = data[int((len(data)*0.8))+1:len(data),(1,2,3,4,10)]\n",
        "\n",
        "x_2a_tstand = Standardizer(x_2a_train)\n",
        "x_2a_vstand = Standardizer(x_2a_val)\n",
        "\n",
        "y_2a_tnorm = Normalizer(y_2a_train)\n",
        "y_2a_vnorm = Normalizer(y_2a_val)\n",
        "\n",
        "\n",
        "x0 = np.ones([len(x_2a_tstand),1])\n",
        "X = np.hstack([x0,x_2a_tstand])\n",
        "\n",
        "xv0 = np.ones([len(x_2a_vstand),1])\n",
        "Xv = np.hstack([xv0,x_2a_vstand])\n",
        "\n",
        "for i in range(600):\n",
        "  theta_2a = gradFunct(y_2a_tnorm,X,X.dot(theta_2a),theta_2a)\n",
        "  train_loss.append(lossFunct(y_2a_tnorm,X.dot(theta_2a)))\n",
        "  val_loss.append(lossFunct(y_2a_vnorm,Xv.dot(theta_2a)))\n",
        "\n",
        "#print(train_loss)\n",
        "#print(val_loss)\n",
        "plt.plot(train_loss, color = \"blue\")\n",
        "plt.plot(val_loss, color = \"red\")"
      ],
      "metadata": {
        "colab": {
          "base_uri": "https://localhost:8080/",
          "height": 282
        },
        "id": "n9_KSYaXkvqB",
        "outputId": "3fa528cb-b42d-4a61-a60c-6268d6249184"
      },
      "execution_count": 82,
      "outputs": [
        {
          "output_type": "execute_result",
          "data": {
            "text/plain": [
              "[<matplotlib.lines.Line2D at 0x7f6294d91280>]"
            ]
          },
          "metadata": {},
          "execution_count": 82
        },
        {
          "output_type": "display_data",
          "data": {
            "text/plain": [
              "<Figure size 432x288 with 1 Axes>"
            ],
            "image/png": "[encoded data removed]"
          },
          "metadata": {
            "needs_background": "light"
          }
        }
      ]
    },
    {
      "cell_type": "markdown",
      "source": [
        "After training the data using both standardization and normalization on the smaller sets, it appears that standardization works better. This is because it closes in on the convergent loss faster than the normalized input training. "
      ],
      "metadata": {
        "id": "OHbe-0qx0XNc"
      }
    },
    {
      "cell_type": "markdown",
      "source": [
        "2.b) Repeat problem 1 b, this time with input normalization and input standardization as part of your pre-processing logic. You need to perform two separate trainings for standardization and normalization. \n",
        "\n",
        "Plot the training and validation losses for both training and validation set based on input standardization and input normalization. Compare your training accuracy between both scaling approaches as well as the baseline training in problem 1 b. Which input scaling achieves the best training? Explain your results."
      ],
      "metadata": {
        "id": "NUs0g7esvLoZ"
      }
    },
    {
      "cell_type": "code",
      "source": [
        "train_loss = []\n",
        "val_loss = []\n",
        "y_2b_train = data[0:int((len(data)*0.8)),0]\n",
        "y_2b_val = data[int((len(data)*0.8))+1:len(data),0]\n",
        "theta_2b = np.zeros(18)\n",
        "\n",
        "x_2b_train = data[0:int((len(data)*0.8)),(1,2,3,4,5,6,7,8,9,10,11)]\n",
        "x_2b_val = data[int((len(data)*0.8))+1:len(data),(1,2,3,4,5,6,7,8,9,10,11)]\n",
        "\n",
        "x_2b_train = oneHotEncoder(x_2b_train)\n",
        "x_2b_val = oneHotEncoder(x_2b_val)\n",
        "\n",
        "x_2b_tnorm = Normalizer(x_2b_train)\n",
        "x_2b_vnorm = Normalizer(x_2b_val)\n",
        "\n",
        "y_2b_tnorm = Normalizer(y_2b_train)\n",
        "y_2b_vnorm = Normalizer(y_2b_val)\n",
        "\n",
        "x0 = np.ones([len(x_2b_tnorm),1])\n",
        "X = np.hstack([x0,x_2b_tnorm])\n",
        "\n",
        "xv0 = np.ones([len(x_2b_vnorm),1])\n",
        "Xv = np.hstack([xv0,x_2b_vnorm])\n",
        "\n",
        "for i in range(600):\n",
        "  theta_2b = gradFunct(y_2b_tnorm,X,X.dot(theta_2b),theta_2b)\n",
        "  train_loss.append(lossFunct(y_2b_tnorm,X.dot(theta_2b)))\n",
        "  val_loss.append(lossFunct(y_2b_vnorm,Xv.dot(theta_2b)))\n",
        "\n",
        "plt.plot(train_loss, color = \"blue\")\n",
        "plt.plot(val_loss, color = \"red\")"
      ],
      "metadata": {
        "colab": {
          "base_uri": "https://localhost:8080/",
          "height": 282
        },
        "id": "G7PvRocpvW91",
        "outputId": "031d63d5-dc97-4337-d58c-927c022a9945"
      },
      "execution_count": 83,
      "outputs": [
        {
          "output_type": "execute_result",
          "data": {
            "text/plain": [
              "[<matplotlib.lines.Line2D at 0x7f6294eaa5e0>]"
            ]
          },
          "metadata": {},
          "execution_count": 83
        },
        {
          "output_type": "display_data",
          "data": {
            "text/plain": [
              "<Figure size 432x288 with 1 Axes>"
            ],
            "image/png": "[encoded data removed]"
          },
          "metadata": {
            "needs_background": "light"
          }
        }
      ]
    },
    {
      "cell_type": "code",
      "source": [
        "train_loss = []\n",
        "val_loss = []\n",
        "y_2b_train = data[0:int((len(data)*0.8)),0]\n",
        "y_2b_val = data[int((len(data)*0.8))+1:len(data),0]\n",
        "theta_2b = np.zeros(18)\n",
        "\n",
        "x_2b_train = data[0:int((len(data)*0.8)),(1,2,3,4,5,6,7,8,9,10,11)]\n",
        "x_2b_val = data[int((len(data)*0.8))+1:len(data),(1,2,3,4,5,6,7,8,9,10,11)]\n",
        "\n",
        "x_2b_train = oneHotEncoder(x_2b_train)\n",
        "x_2b_val = oneHotEncoder(x_2b_val)\n",
        "\n",
        "x_2b_tstand = Standardizer(x_2b_train)\n",
        "x_2b_vstand = Standardizer(x_2b_val)\n",
        "\n",
        "y_2b_tnorm = Normalizer(y_2b_train)\n",
        "y_2b_vnorm = Normalizer(y_2b_val)\n",
        "\n",
        "x0 = np.ones([len(x_2b_tstand),1])\n",
        "X = np.hstack([x0,x_2b_tstand])\n",
        "\n",
        "xv0 = np.ones([len(x_2b_vstand),1])\n",
        "Xv = np.hstack([xv0,x_2b_vstand])\n",
        "\n",
        "for i in range(600):\n",
        "  theta_2b = gradFunct(y_2b_tnorm,X,X.dot(theta_2b),theta_2b)\n",
        "  train_loss.append(lossFunct(y_2b_tnorm,X.dot(theta_2b)))\n",
        "  val_loss.append(lossFunct(y_2b_vnorm,Xv.dot(theta_2b)))\n",
        "\n",
        "plt.plot(train_loss, color = \"blue\")\n",
        "plt.plot(val_loss, color = \"red\")"
      ],
      "metadata": {
        "colab": {
          "base_uri": "https://localhost:8080/",
          "height": 282
        },
        "id": "f2s5yQvBxh0N",
        "outputId": "89add906-19a7-48c5-c287-9444527a91a9"
      },
      "execution_count": 84,
      "outputs": [
        {
          "output_type": "execute_result",
          "data": {
            "text/plain": [
              "[<matplotlib.lines.Line2D at 0x7f62947a42e0>]"
            ]
          },
          "metadata": {},
          "execution_count": 84
        },
        {
          "output_type": "display_data",
          "data": {
            "text/plain": [
              "<Figure size 432x288 with 1 Axes>"
            ],
            "image/png": "[encoded data removed]"
          },
          "metadata": {
            "needs_background": "light"
          }
        }
      ]
    },
    {
      "cell_type": "markdown",
      "source": [
        "After having plotted the different input scalings it has been determined that for the purposes of this assignment, standardization seems to have worked best. While both had begun to converge, standardization seemed to close in faster than normalization. "
      ],
      "metadata": {
        "id": "ilsUMahSz0py"
      }
    },
    {
      "cell_type": "markdown",
      "source": [
        "Problem 3"
      ],
      "metadata": {
        "id": "zbA3DCRz9H0-"
      }
    },
    {
      "cell_type": "markdown",
      "source": [
        "3.a) Repeat problem 2 a, this time by adding parameters penalty to your loss function. Note that in this case, you need to modify the gradient decent logic for your training set, but you don’t need to change your loss for the evaluation set.  \n",
        "\n",
        "Plot your results (both training and evaluation losses) for the best input scaling approach (standardization or normalization). Explain your results and compare them against problem 2 a. "
      ],
      "metadata": {
        "id": "VHC-sWVT9Jp0"
      }
    },
    {
      "cell_type": "code",
      "source": [
        "train_loss = []\n",
        "val_loss = []\n",
        "y_3a_train = data[0:int((len(data)*0.8)),0]\n",
        "y_3a_val = data[int((len(data)*0.8))+1:len(data),0]\n",
        "theta_3a = np.zeros(6)\n",
        "\n",
        "x_3a_train = data[0:int((len(data)*0.8)),(1,2,3,4,10)]\n",
        "x_3a_val = data[int((len(data)*0.8))+1:len(data),(1,2,3,4,10)]\n",
        "\n",
        "x_3a_tnorm = Normalizer(x_3a_train)\n",
        "x_3a_vnorm = Normalizer(x_3a_val)\n",
        "\n",
        "y_3a_tnorm = Normalizer(y_3a_train)\n",
        "y_3a_vnorm = Normalizer(y_3a_val)\n",
        "\n",
        "x0 = np.ones([len(x_3a_tnorm),1])\n",
        "X = np.hstack([x0,x_3a_tnorm])\n",
        "\n",
        "xv0 = np.ones([len(x_3a_vnorm),1])\n",
        "Xv = np.hstack([xv0,x_3a_vnorm])\n",
        "\n",
        "for i in range(600):\n",
        "  theta_3a = gradFunct2(y_3a_tnorm,X,X.dot(theta_3a),theta_3a,lam = 0.3)\n",
        "  train_loss.append(lossFunct2(y_3a_tnorm,X.dot(theta_3a),lam = 0.3, theta = theta_3a))\n",
        "  val_loss.append(lossFunct2(y_3a_vnorm,Xv.dot(theta_3a),lam = 0.3, theta = theta_3a))\n",
        "\n",
        "plt.plot(train_loss, color = \"blue\")\n",
        "plt.plot(val_loss, color = \"red\")"
      ],
      "metadata": {
        "colab": {
          "base_uri": "https://localhost:8080/",
          "height": 282
        },
        "id": "2XsM8fv_9MFb",
        "outputId": "23a07e7a-e049-4e0f-cc09-c8bc1c96a497"
      },
      "execution_count": 99,
      "outputs": [
        {
          "output_type": "execute_result",
          "data": {
            "text/plain": [
              "[<matplotlib.lines.Line2D at 0x7f6292a2f190>]"
            ]
          },
          "metadata": {},
          "execution_count": 99
        },
        {
          "output_type": "display_data",
          "data": {
            "text/plain": [
              "<Figure size 432x288 with 1 Axes>"
            ],
            "image/png": "[encoded data removed]"
          },
          "metadata": {
            "needs_background": "light"
          }
        }
      ]
    },
    {
      "cell_type": "code",
      "source": [
        "train_loss = []\n",
        "val_loss = []\n",
        "y_3a_train = data[0:int((len(data)*0.8)),0]\n",
        "y_3a_val = data[int((len(data)*0.8))+1:len(data),0]\n",
        "theta_3a = np.zeros(6)\n",
        "\n",
        "x_3a_train = data[0:int((len(data)*0.8)),(1,2,3,4,10)]\n",
        "x_3a_val = data[int((len(data)*0.8))+1:len(data),(1,2,3,4,10)]\n",
        "\n",
        "x_3a_tstand = Standardizer(x_3a_train)\n",
        "x_3a_vstand = Standardizer(x_3a_val)\n",
        "\n",
        "y_3a_tnorm = Normalizer(y_3a_train)\n",
        "y_3a_vnorm = Normalizer(y_3a_val)\n",
        "\n",
        "x0 = np.ones([len(x_3a_tstand),1])\n",
        "X = np.hstack([x0,x_3a_tstand])\n",
        "\n",
        "xv0 = np.ones([len(x_3a_vstand),1])\n",
        "Xv = np.hstack([xv0,x_3a_vstand])\n",
        "\n",
        "for i in range(600):\n",
        "  theta_3a = gradFunct2(y_3a_tnorm,X,X.dot(theta_3a),theta_3a,lam = 0.3)\n",
        "  train_loss.append(lossFunct2(y_3a_tnorm,X.dot(theta_3a),lam = 0.3, theta = theta_3a))\n",
        "  val_loss.append(lossFunct2(y_3a_vnorm,Xv.dot(theta_3a),lam = 0.3, theta = theta_3a))\n",
        "\n",
        "#print(val_loss)\n",
        "plt.plot(train_loss, color = \"blue\")\n",
        "plt.plot(val_loss, color = \"red\")"
      ],
      "metadata": {
        "colab": {
          "base_uri": "https://localhost:8080/",
          "height": 282
        },
        "id": "J3cCljxNCwN5",
        "outputId": "af7961b7-ee5e-43a5-c257-8a3cc7049115"
      },
      "execution_count": 96,
      "outputs": [
        {
          "output_type": "execute_result",
          "data": {
            "text/plain": [
              "[<matplotlib.lines.Line2D at 0x7f6292ba3550>]"
            ]
          },
          "metadata": {},
          "execution_count": 96
        },
        {
          "output_type": "display_data",
          "data": {
            "text/plain": [
              "<Figure size 432x288 with 1 Axes>"
            ],
            "image/png": "[encoded data removed]"
          },
          "metadata": {
            "needs_background": "light"
          }
        }
      ]
    },
    {
      "cell_type": "markdown",
      "source": [
        "Unlike in question 2, we can see that normalization works better when we apply a weight penalty. This can be seen by the normalized training curve approaching its convergent loss faster than the standardized one. "
      ],
      "metadata": {
        "id": "NHlBodDh04PQ"
      }
    },
    {
      "cell_type": "markdown",
      "source": [
        "3.b) Repeat problem 2 b, this time by adding parameters penalty to your loss function. Note that in this case, you need to modify the gradient decent logic for your training set, but you don’t need to change your loss for the evaluation set.  \n",
        "\n",
        "Plot your results (both training and evaluation losses) for the best input scaling approach (standardization or normalization). Explain your results and compare them against problem 2 b. "
      ],
      "metadata": {
        "id": "nXBKPS6uDFKx"
      }
    },
    {
      "cell_type": "code",
      "source": [
        "train_loss = []\n",
        "val_loss = []\n",
        "y_3b_train = data[0:int((len(data)*0.8)),0]\n",
        "y_3b_val = data[int((len(data)*0.8))+1:len(data),0]\n",
        "theta_3b = np.zeros(18)\n",
        "\n",
        "x_3b_train = data[0:int((len(data)*0.8)),(1,2,3,4,5,6,7,8,9,10,11)]\n",
        "x_3b_val = data[int((len(data)*0.8))+1:len(data),(1,2,3,4,5,6,7,8,9,10,11)]\n",
        "\n",
        "x_3b_train = oneHotEncoder(x_3b_train)\n",
        "x_3b_val = oneHotEncoder(x_3b_val)\n",
        "\n",
        "x_3b_tnorm = Normalizer(x_3b_train)\n",
        "x_3b_vnorm = Normalizer(x_3b_val)\n",
        "\n",
        "y_3b_tnorm = Normalizer(y_3b_train)\n",
        "y_3b_vnorm = Normalizer(y_3b_val)\n",
        "\n",
        "x0 = np.ones([len(x_3b_tnorm),1])\n",
        "X = np.hstack([x0,x_3b_tnorm])\n",
        "\n",
        "xv0 = np.ones([len(x_3b_vnorm),1])\n",
        "Xv = np.hstack([xv0,x_3b_vnorm])\n",
        "\n",
        "for i in range(600):\n",
        "  theta_3b = gradFunct2(y_3b_tnorm,X,X.dot(theta_3b),theta_3b,lam = 0.3)\n",
        "  train_loss.append(lossFunct2(y_3b_tnorm,X.dot(theta_3b),lam = 0.3, theta = theta_3b))\n",
        "  val_loss.append(lossFunct2(y_3b_vnorm,Xv.dot(theta_3b),lam = 0.3, theta = theta_3b))\n",
        "\n",
        "\n",
        "plt.plot(train_loss, color = \"blue\")\n",
        "plt.plot(val_loss, color = \"red\")"
      ],
      "metadata": {
        "colab": {
          "base_uri": "https://localhost:8080/",
          "height": 282
        },
        "id": "IxCMrM0xDEhg",
        "outputId": "9e117455-fc84-4390-8398-5d58b0308181"
      },
      "execution_count": 97,
      "outputs": [
        {
          "output_type": "execute_result",
          "data": {
            "text/plain": [
              "[<matplotlib.lines.Line2D at 0x7f62946069a0>]"
            ]
          },
          "metadata": {},
          "execution_count": 97
        },
        {
          "output_type": "display_data",
          "data": {
            "text/plain": [
              "<Figure size 432x288 with 1 Axes>"
            ],
            "image/png": "[encoded data removed]"
          },
          "metadata": {
            "needs_background": "light"
          }
        }
      ]
    },
    {
      "cell_type": "code",
      "source": [
        "train_loss = []\n",
        "val_loss = []\n",
        "y_3b_train = data[0:int((len(data)*0.8)),0]\n",
        "y_3b_val = data[int((len(data)*0.8))+1:len(data),0]\n",
        "theta_3b = np.zeros(18)\n",
        "\n",
        "x_3b_train = data[0:int((len(data)*0.8)),(1,2,3,4,5,6,7,8,9,10,11)]\n",
        "x_3b_val = data[int((len(data)*0.8))+1:len(data),(1,2,3,4,5,6,7,8,9,10,11)]\n",
        "\n",
        "x_3b_train = oneHotEncoder(x_3b_train)\n",
        "x_3b_val = oneHotEncoder(x_3b_val)\n",
        "\n",
        "x_3b_tstand = Standardizer(x_3b_train)\n",
        "x_3b_vstand = Standardizer(x_3b_val)\n",
        "\n",
        "y_3b_tnorm = Normalizer(y_3b_train)\n",
        "y_3b_vnorm = Normalizer(y_3b_val)\n",
        "\n",
        "x0 = np.ones([len(x_3b_tstand),1])\n",
        "X = np.hstack([x0,x_3b_tstand])\n",
        "\n",
        "xv0 = np.ones([len(x_3b_vstand),1])\n",
        "Xv = np.hstack([xv0,x_3b_vstand])\n",
        "\n",
        "for i in range(600):\n",
        "  theta_3b = gradFunct2(y_3b_tnorm,X,X.dot(theta_3b),theta_3b,lam = 0.3)\n",
        "  train_loss.append(lossFunct2(y_3b_tnorm,X.dot(theta_3b),lam = 0.3, theta = theta_3b))\n",
        "  val_loss.append(lossFunct2(y_3b_vnorm,Xv.dot(theta_3b),lam = 0.3, theta = theta_3b))\n",
        "\n",
        "\n",
        "plt.plot(train_loss, color = \"blue\")\n",
        "plt.plot(val_loss, color = \"red\")"
      ],
      "metadata": {
        "colab": {
          "base_uri": "https://localhost:8080/",
          "height": 282
        },
        "id": "V4x_cJP8Diq4",
        "outputId": "dc4aada6-3bbd-4ca8-8a52-b8021f8db33c"
      },
      "execution_count": 98,
      "outputs": [
        {
          "output_type": "execute_result",
          "data": {
            "text/plain": [
              "[<matplotlib.lines.Line2D at 0x7f62945cc7c0>]"
            ]
          },
          "metadata": {},
          "execution_count": 98
        },
        {
          "output_type": "display_data",
          "data": {
            "text/plain": [
              "<Figure size 432x288 with 1 Axes>"
            ],
            "image/png": "[encoded data removed]"
          },
          "metadata": {
            "needs_background": "light"
          }
        }
      ]
    },
    {
      "cell_type": "markdown",
      "source": [
        "As with the first part, normalization performs better than the standardization. This can be seen by observing that normalization converges faster than standardization. "
      ],
      "metadata": {
        "id": "no5TMU8k1MqZ"
      }
    }
  ]
}